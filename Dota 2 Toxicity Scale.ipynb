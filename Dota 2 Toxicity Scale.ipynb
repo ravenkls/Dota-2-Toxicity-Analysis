{
 "cells": [
  {
   "cell_type": "code",
   "execution_count": 101,
   "metadata": {},
   "outputs": [],
   "source": [
    "import pandas as pd\n",
    "\n",
    "# Load in all the data\n",
    "\n",
    "chat_df = pd.read_csv(\"chat.csv\")\n",
    "match_df = pd.read_csv(\"match.csv\")\n",
    "match_df.set_index('match_id', inplace=True)\n",
    "\n",
    "# Using a bag of words model to rank each phrase\n",
    "\n",
    "with open('positive_words.txt') as pos_words_file:\n",
    "    positive_words = set(pos_words_file.read().split('\\n')[:-1])\n",
    "    \n",
    "with open('negative_words.txt') as neg_words_file:\n",
    "    negative_words = set(neg_words_file.read().split('\\n')[:-1])\n"
   ]
  },
  {
   "cell_type": "code",
   "execution_count": 63,
   "metadata": {},
   "outputs": [],
   "source": [
    "# Analyse sentences and retrieve scores\n",
    "\n",
    "def score_chat(row):\n",
    "    score = 0\n",
    "    for word in str(row['key']).split(\" \"):\n",
    "        if word in positive_words:\n",
    "            score += 1\n",
    "        if word in negative_words:\n",
    "            score -= 1\n",
    "    return score\n",
    "\n",
    "scores = chat_df.apply(score_chat, axis=1)\n",
    "chat_df['score'] = scores\n",
    "chat_df.drop(['key', 'slot', 'time', 'unit'], axis=1, inplace=True)\n",
    "chat_df.to_csv('processed_chat.csv')\n"
   ]
  },
  {
   "cell_type": "code",
   "execution_count": 117,
   "metadata": {},
   "outputs": [],
   "source": [
    "# Load clusters into score dataframe\n",
    "\n",
    "score_df = pd.read_csv('processed_chat.csv')\n",
    "\n",
    "def region_from_match_id(row):\n",
    "    return match_df.iloc[row['match_id']]['cluster']\n",
    "\n",
    "score_df['cluster'] = score_df.apply(region_from_match_id, axis=1)\n",
    "score_df.to_csv('processed_chat.csv')\n"
   ]
  },
  {
   "cell_type": "code",
   "execution_count": 139,
   "metadata": {},
   "outputs": [],
   "source": [
    "from collections import defaultdict\n",
    "import json\n",
    "\n",
    "# Tally scores based on region\n",
    "\n",
    "with open('region.json') as regions_file:\n",
    "    regions = json.load(regions_file)\n",
    "\n",
    "tally = defaultdict(int)\n",
    "\n",
    "for region_code, region in regions.items():\n",
    "    region_chats = score_df[score_df['cluster'] == int(region_code)]\n",
    "    region_score = region_chats['score'].sum()\n",
    "    tally[region] += region_score\n"
   ]
  },
  {
   "cell_type": "code",
   "execution_count": 153,
   "metadata": {},
   "outputs": [
    {
     "name": "stdout",
     "output_type": "stream",
     "text": [
      "======= Toxicity Scale =======\n",
      "1. EUROPE - -12318\n",
      "2. SINGAPORE - -9713\n",
      "3. US EAST - -8739\n",
      "4. US WEST - -4387\n",
      "5. AUSTRALIA - -4324\n",
      "6. AUSTRIA - -1376\n",
      "7. STOCKHOLM - -239\n",
      "8. JAPAN - -174\n",
      "9. DUBAI - -98\n",
      "10. PW TELECOM SHANGHAI - -10\n",
      "11. CHILE - -1\n",
      "12. SOUTHAFRICA - 0\n",
      "13. PW TELECOM GUANGDONG - 0\n",
      "14. PW TELECOM WUHAN - 0\n",
      "15. PW UNICOM - 0\n",
      "16. PW UNICOM TIANJIN - 0\n",
      "17. PERU - 0\n",
      "18. INDIA - 0\n",
      "19. PW TELECOM ZHEJIANG - 2\n",
      "20. BRAZIL - 69\n"
     ]
    }
   ],
   "source": [
    "# Plot data on map\n",
    "\n",
    "print(\"======= Toxicity Scale =======\")\n",
    "\n",
    "for n, country in enumerate(sorted(tally, key=lambda x: tally[x]), start=1):\n",
    "    print(f\"{n}. {country} - {tally[country]}\")"
   ]
  },
  {
   "cell_type": "code",
   "execution_count": null,
   "metadata": {},
   "outputs": [],
   "source": []
  }
 ],
 "metadata": {
  "kernelspec": {
   "display_name": "Python 3",
   "language": "python",
   "name": "python3"
  },
  "language_info": {
   "codemirror_mode": {
    "name": "ipython",
    "version": 3
   },
   "file_extension": ".py",
   "mimetype": "text/x-python",
   "name": "python",
   "nbconvert_exporter": "python",
   "pygments_lexer": "ipython3",
   "version": "3.7.2"
  }
 },
 "nbformat": 4,
 "nbformat_minor": 2
}
